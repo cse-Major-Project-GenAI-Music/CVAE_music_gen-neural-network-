{
 "cells": [
  {
   "cell_type": "markdown",
   "id": "ba688bf8",
   "metadata": {},
   "source": [
    "# Install requirements"
   ]
  },
  {
   "cell_type": "code",
   "execution_count": 1,
   "id": "d75ec3dc",
   "metadata": {},
   "outputs": [
    {
     "name": "stdout",
     "output_type": "stream",
     "text": [
      "Requirement already satisfied: pretty_midi in c:\\users\\chint\\anaconda3\\lib\\site-packages (0.2.10)\n",
      "Requirement already satisfied: crepe in c:\\users\\chint\\anaconda3\\lib\\site-packages (0.0.16)\n",
      "Requirement already satisfied: librosa in c:\\users\\chint\\anaconda3\\lib\\site-packages (0.10.2.post1)\n",
      "Requirement already satisfied: mido in c:\\users\\chint\\anaconda3\\lib\\site-packages (1.3.2)\n",
      "Requirement already satisfied: pydub in c:\\users\\chint\\anaconda3\\lib\\site-packages (0.25.1)\n",
      "Requirement already satisfied: midi2audio in c:\\users\\chint\\anaconda3\\lib\\site-packages (0.1.1)\n",
      "Requirement already satisfied: python-rtmidi in c:\\users\\chint\\anaconda3\\lib\\site-packages (1.5.8)\n",
      "Requirement already satisfied: flask in c:\\users\\chint\\anaconda3\\lib\\site-packages (1.1.2)\n",
      "Requirement already satisfied: flask_cors in c:\\users\\chint\\anaconda3\\lib\\site-packages (4.0.1)\n",
      "Requirement already satisfied: numpy>=1.7.0 in c:\\users\\chint\\appdata\\roaming\\python\\python39\\site-packages (from pretty_midi) (1.21.6)\n",
      "Requirement already satisfied: six in c:\\users\\chint\\anaconda3\\lib\\site-packages (from pretty_midi) (1.16.0)\n",
      "Requirement already satisfied: scipy>=1.0.0 in c:\\users\\chint\\appdata\\roaming\\python\\python39\\site-packages (from crepe) (1.9.1)\n",
      "Requirement already satisfied: matplotlib>=2.1.0 in c:\\users\\chint\\anaconda3\\lib\\site-packages (from crepe) (3.5.2)\n",
      "Requirement already satisfied: resampy>=0.2.0 in c:\\users\\chint\\anaconda3\\lib\\site-packages (from crepe) (0.4.3)\n",
      "Requirement already satisfied: h5py in c:\\users\\chint\\anaconda3\\lib\\site-packages (from crepe) (3.11.0)\n",
      "Requirement already satisfied: hmmlearn>=0.3.0 in c:\\users\\chint\\anaconda3\\lib\\site-packages (from crepe) (0.3.3)\n",
      "Requirement already satisfied: imageio>=2.3.0 in c:\\users\\chint\\anaconda3\\lib\\site-packages (from crepe) (2.19.3)\n",
      "Requirement already satisfied: scikit-learn>=0.16 in c:\\users\\chint\\anaconda3\\lib\\site-packages (from crepe) (1.0.2)\n",
      "Requirement already satisfied: audioread>=2.1.9 in c:\\users\\chint\\anaconda3\\lib\\site-packages (from librosa) (3.0.1)\n",
      "Requirement already satisfied: joblib>=0.14 in c:\\users\\chint\\anaconda3\\lib\\site-packages (from librosa) (1.1.0)\n",
      "Requirement already satisfied: decorator>=4.3.0 in c:\\users\\chint\\anaconda3\\lib\\site-packages (from librosa) (5.1.1)\n",
      "Requirement already satisfied: numba>=0.51.0 in c:\\users\\chint\\appdata\\roaming\\python\\python39\\site-packages (from librosa) (0.55.1)\n",
      "Requirement already satisfied: soundfile>=0.12.1 in c:\\users\\chint\\anaconda3\\lib\\site-packages (from librosa) (0.12.1)\n",
      "Requirement already satisfied: pooch>=1.1 in c:\\users\\chint\\anaconda3\\lib\\site-packages (from librosa) (1.8.2)\n",
      "Requirement already satisfied: soxr>=0.3.2 in c:\\users\\chint\\anaconda3\\lib\\site-packages (from librosa) (0.5.0.post1)\n",
      "Requirement already satisfied: typing-extensions>=4.1.1 in c:\\users\\chint\\anaconda3\\lib\\site-packages (from librosa) (4.12.2)\n",
      "Requirement already satisfied: lazy-loader>=0.1 in c:\\users\\chint\\anaconda3\\lib\\site-packages (from librosa) (0.4)\n",
      "Requirement already satisfied: msgpack>=1.0 in c:\\users\\chint\\anaconda3\\lib\\site-packages (from librosa) (1.0.3)\n",
      "Requirement already satisfied: packaging~=23.1 in c:\\users\\chint\\anaconda3\\lib\\site-packages (from mido) (23.2)\n",
      "Requirement already satisfied: Werkzeug>=0.15 in c:\\users\\chint\\anaconda3\\lib\\site-packages (from flask) (2.0.3)\n",
      "Requirement already satisfied: Jinja2>=2.10.1 in c:\\users\\chint\\anaconda3\\lib\\site-packages (from flask) (2.11.3)\n",
      "Requirement already satisfied: itsdangerous>=0.24 in c:\\users\\chint\\anaconda3\\lib\\site-packages (from flask) (2.0.1)\n",
      "Requirement already satisfied: click>=5.1 in c:\\users\\chint\\anaconda3\\lib\\site-packages (from flask) (8.0.4)\n",
      "Requirement already satisfied: colorama in c:\\users\\chint\\anaconda3\\lib\\site-packages (from click>=5.1->flask) (0.4.5)\n",
      "Requirement already satisfied: pillow>=8.3.2 in c:\\users\\chint\\anaconda3\\lib\\site-packages (from imageio>=2.3.0->crepe) (10.4.0)\n",
      "Requirement already satisfied: MarkupSafe>=0.23 in c:\\users\\chint\\anaconda3\\lib\\site-packages (from Jinja2>=2.10.1->flask) (2.0.1)\n",
      "Requirement already satisfied: cycler>=0.10 in c:\\users\\chint\\anaconda3\\lib\\site-packages (from matplotlib>=2.1.0->crepe) (0.11.0)\n",
      "Requirement already satisfied: fonttools>=4.22.0 in c:\\users\\chint\\anaconda3\\lib\\site-packages (from matplotlib>=2.1.0->crepe) (4.25.0)\n",
      "Requirement already satisfied: kiwisolver>=1.0.1 in c:\\users\\chint\\anaconda3\\lib\\site-packages (from matplotlib>=2.1.0->crepe) (1.4.2)\n",
      "Requirement already satisfied: pyparsing>=2.2.1 in c:\\users\\chint\\anaconda3\\lib\\site-packages (from matplotlib>=2.1.0->crepe) (3.0.9)\n",
      "Requirement already satisfied: python-dateutil>=2.7 in c:\\users\\chint\\anaconda3\\lib\\site-packages (from matplotlib>=2.1.0->crepe) (2.8.2)\n",
      "Requirement already satisfied: llvmlite<0.39,>=0.38.0rc1 in c:\\users\\chint\\anaconda3\\lib\\site-packages (from numba>=0.51.0->librosa) (0.38.0)\n",
      "Requirement already satisfied: setuptools in c:\\users\\chint\\anaconda3\\lib\\site-packages (from numba>=0.51.0->librosa) (63.4.1)\n",
      "Requirement already satisfied: platformdirs>=2.5.0 in c:\\users\\chint\\anaconda3\\lib\\site-packages (from pooch>=1.1->librosa) (2.5.2)\n",
      "Requirement already satisfied: requests>=2.19.0 in c:\\users\\chint\\anaconda3\\lib\\site-packages (from pooch>=1.1->librosa) (2.32.3)\n",
      "Requirement already satisfied: threadpoolctl>=2.0.0 in c:\\users\\chint\\anaconda3\\lib\\site-packages (from scikit-learn>=0.16->crepe) (2.2.0)\n",
      "Requirement already satisfied: cffi>=1.0 in c:\\users\\chint\\anaconda3\\lib\\site-packages (from soundfile>=0.12.1->librosa) (1.15.1)\n",
      "Requirement already satisfied: pycparser in c:\\users\\chint\\anaconda3\\lib\\site-packages (from cffi>=1.0->soundfile>=0.12.1->librosa) (2.21)\n",
      "Requirement already satisfied: charset-normalizer<4,>=2 in c:\\users\\chint\\anaconda3\\lib\\site-packages (from requests>=2.19.0->pooch>=1.1->librosa) (2.0.4)\n",
      "Requirement already satisfied: idna<4,>=2.5 in c:\\users\\chint\\anaconda3\\lib\\site-packages (from requests>=2.19.0->pooch>=1.1->librosa) (2.10)\n",
      "Requirement already satisfied: urllib3<3,>=1.21.1 in c:\\users\\chint\\anaconda3\\lib\\site-packages (from requests>=2.19.0->pooch>=1.1->librosa) (1.26.11)\n",
      "Requirement already satisfied: certifi>=2017.4.17 in c:\\users\\chint\\anaconda3\\lib\\site-packages (from requests>=2.19.0->pooch>=1.1->librosa) (2022.9.14)\n",
      "Note: you may need to restart the kernel to use updated packages.\n"
     ]
    }
   ],
   "source": [
    "pip install pretty_midi crepe librosa mido pydub midi2audio python-rtmidi flask flask_cors"
   ]
  },
  {
   "cell_type": "markdown",
   "id": "db1977e6",
   "metadata": {},
   "source": [
    "# Detect and smoothen freqencies"
   ]
  },
  {
   "cell_type": "code",
   "execution_count": 2,
   "id": "6bd8b696",
   "metadata": {},
   "outputs": [],
   "source": [
    "import numpy as np\n",
    "import librosa\n",
    "from crepe import predict\n",
    "\n",
    "def detect_frequency_with_filter(wav_file, threshold=0.72, step_size=10):\n",
    "    # Perform frequency detection using CREPE\n",
    "    audio, sr = librosa.load(wav_file, sr=None)\n",
    "    print('extracted sample rate, audio. proceeding to detect frequency details...')\n",
    "    \n",
    "    time, frequency, confidence, _ = predict(audio, sr, step_size=step_size, viterbi=True)\n",
    "\n",
    "    # Filter pitch based on confidence scores\n",
    "    filtered_frequency = np.where(confidence >= threshold, frequency, np.nan)\n",
    "\n",
    "    return time, filtered_frequency\n",
    "\n",
    "def smoothen_detected_frequencies(detected_frequency):\n",
    "    # Input data\n",
    "    data = detected_frequency\n",
    "    \n",
    "    # Grouping algorithm\n",
    "    time = data['time']\n",
    "    frequencies = data['filtered_frequency']\n",
    "    grouped_frequencies = frequencies.copy()\n",
    "    \n",
    "    # Initialize variables\n",
    "    group_start = 0\n",
    "    \n",
    "    for i in range(1, len(time)):\n",
    "        if (\n",
    "            not np.isnan(frequencies[i])\n",
    "            and not np.isnan(frequencies[group_start])\n",
    "            and abs(frequencies[i] - frequencies[group_start]) <= 50\n",
    "        ):\n",
    "            # Same group\n",
    "            continue\n",
    "        else:\n",
    "            # New group, calculate average of current group\n",
    "            valid_frequencies = frequencies[group_start:i]\n",
    "            if len(valid_frequencies[~np.isnan(valid_frequencies)]) > 0:\n",
    "                group_avg = np.nanmean(valid_frequencies)\n",
    "                grouped_frequencies[group_start:i] = group_avg\n",
    "            group_start = i\n",
    "    \n",
    "    # Final group\n",
    "    valid_frequencies = frequencies[group_start:]\n",
    "    if len(valid_frequencies[~np.isnan(valid_frequencies)]) > 0:\n",
    "        group_avg = np.nanmean(valid_frequencies)\n",
    "        grouped_frequencies[group_start:] = group_avg\n",
    "    \n",
    "    # Update the object with grouped frequencies\n",
    "    data['filtered_frequency'] = grouped_frequencies\n",
    "    \n",
    "    return data\n"
   ]
  },
  {
   "cell_type": "markdown",
   "id": "08a7ac99",
   "metadata": {},
   "source": [
    "# Construct midi File"
   ]
  },
  {
   "cell_type": "code",
   "execution_count": 3,
   "id": "223dbc28",
   "metadata": {},
   "outputs": [],
   "source": [
    "from mido import MidiFile, MidiTrack, Message\n",
    "\n",
    "def construct_midi_file_for_predicted_frequencies(smoothened_detected_frequency, wav_file, instrument_code, instrument_name):\n",
    "    time_data = smoothened_detected_frequency['time']\n",
    "    frequencies = smoothened_detected_frequency['filtered_frequency']\n",
    "    \n",
    "    # MIDI conversion: Frequency to MIDI Note number\n",
    "    def frequency_to_midi(frequency):\n",
    "        if np.isnan(frequency):\n",
    "            return 0  # No note for NaN frequency\n",
    "        return int(np.round(69 + 12 * np.log2(frequency / 440.0)))\n",
    "\n",
    "    # Identify note start and end times\n",
    "    events = []\n",
    "    start_time = time_data[0]\n",
    "    current_frequency = None\n",
    "    \n",
    "    for t, freq in zip(time_data, frequencies):\n",
    "        midi_note = frequency_to_midi(freq)\n",
    "        \n",
    "        if midi_note != current_frequency:\n",
    "            if current_frequency is not None:\n",
    "                # End the current note\n",
    "                events.append(('note_off', current_frequency, t - start_time))\n",
    "            \n",
    "            if midi_note != 0:  # Start a new note if it's not silence\n",
    "                events.append(('note_on', midi_note, t - start_time))\n",
    "            \n",
    "            current_frequency = midi_note\n",
    "    \n",
    "    # Build MIDI file\n",
    "    midi = MidiFile()\n",
    "    track = MidiTrack()\n",
    "    midi.tracks.append(track)\n",
    "    \n",
    "     # Set the instrument program (instrument_code)\n",
    "    track.append(Message('program_change', program=instrument_code, time=0))\n",
    "    \n",
    "    # Track time for calculating delta times\n",
    "    previous_time = 0\n",
    "    \n",
    "    for msg in events:\n",
    "        delta_time = int((msg[2] - previous_time) * 1000)  # Convert time to milliseconds\n",
    "        previous_time = msg[2]\n",
    "        \n",
    "        if msg[1] != 0 or msg[1] == 0:  # Skip silent notes (MIDI note 0)\n",
    "            if msg[0] == 'note_on':\n",
    "                track.append(Message('note_on', note=msg[1], velocity=127, time=delta_time))\n",
    "            elif msg[0] == 'note_off':\n",
    "                track.append(Message('note_off', note=msg[1], velocity=127, time=delta_time))\n",
    "    \n",
    "    # Save the MIDI file\n",
    "    file_name = f\"./generated_midi_files/{instrument_name}/generated_music_\" +  os.path.basename(wav_file).replace(\".wav\", \".mid\")\n",
    "    midi.save(file_name)\n",
    "    # print(f\"Generated file: {file_name}\")\n",
    "    \n",
    "    return file_name"
   ]
  },
  {
   "cell_type": "markdown",
   "id": "67ce46f5",
   "metadata": {},
   "source": [
    "## Convert midi file to .wav file"
   ]
  },
  {
   "cell_type": "code",
   "execution_count": 4,
   "id": "d7b6d09e",
   "metadata": {},
   "outputs": [],
   "source": [
    "import subprocess\n",
    "import os\n",
    "\n",
    "def construct_wav_file_from_midi(input_midi, instrument_name, output_dir):\n",
    "    output_wav = f\"{output_dir}/{instrument_name}/\" + os.path.basename(input_midi).replace('.mid','.wav')\n",
    "    \n",
    "    soundfont_path = os.path.abspath(\"./FluidR3_GM.sf2\")\n",
    "    fluidsynth_path = r'C:\\ProgramData\\chocolatey\\bin\\fluidsynth.exe' \n",
    "    \n",
    "    # Convert to absolute paths\n",
    "    input_midi = os.path.abspath(input_midi)\n",
    "    \n",
    "    # Check if SoundFont and MIDI files exist\n",
    "    if not os.path.exists(soundfont_path):\n",
    "        print(f\"Error: SoundFont file not found at {soundfont_path}\")\n",
    "        return\n",
    "    if not os.path.exists(input_midi):\n",
    "        print(f\"Error: MIDI file not found at {input_midi}\")\n",
    "        return\n",
    "    \n",
    "    # Ensure the output directory exists\n",
    "    output_dir = os.path.dirname(output_wav)\n",
    "    if output_dir and not os.path.exists(output_dir):\n",
    "        print(f\"Creating directory: {output_dir}\")\n",
    "        os.makedirs(output_dir, exist_ok=True)\n",
    "\n",
    "    try:\n",
    "        # Build the FluidSynth command using the full path to the executable\n",
    "        # Added the `-s` flag for silent mode and `-F` to specify output file\n",
    "        command = f'\"{fluidsynth_path}\" -s \"{soundfont_path}\" -F \"{output_wav}\" \"{input_midi}\"'\n",
    "        \n",
    "        # Run the command via subprocess with shell=True and capture stderr and stdout\n",
    "        print(f\"Converting {input_midi} to {output_wav} using {soundfont_path}\")\n",
    "        result = subprocess.run(command, shell=True, check=True, capture_output=True, text=True)\n",
    "#         print(result.stdout)  # Print the standard output from the process\n",
    "        # print(f\"Conversion complete! WAV file saved at: {output_wav}\")\n",
    "    except subprocess.CalledProcessError as e:\n",
    "        print(f\"Error during conversion: {e.stderr}\")  # Print the standard error from the process\n",
    "    except Exception as e:\n",
    "        print(f\"Unexpected error: {e}\")\n",
    "    return output_wav"
   ]
  },
  {
   "cell_type": "markdown",
   "id": "6123ec00",
   "metadata": {},
   "source": [
    "# Mix user_hum.wav and midi.wav"
   ]
  },
  {
   "cell_type": "code",
   "execution_count": 5,
   "id": "35a2c9e5",
   "metadata": {},
   "outputs": [],
   "source": [
    "from pydub import AudioSegment\n",
    "import IPython.display as ipd\n",
    "\n",
    "def mix_and_play_audio(wav_file_1, wav_file_2, instrument_name):\n",
    "    output_file = f\"./generated_mixed_music/{instrument_name}/\" + os.path.basename(wav_file_1).replace('.mid','.wav')\n",
    "    # print('inside mix and play')\n",
    "    # Load the .wav files\n",
    "    try:\n",
    "        audio_1 = AudioSegment.from_wav(wav_file_1)\n",
    "        sr1 = audio_1.frame_rate \n",
    "    except Exception as e:\n",
    "        print(e)\n",
    "    try:\n",
    "        audio_2 = AudioSegment.from_wav(wav_file_2)\n",
    "        sr2 = audio_2.frame_rate \n",
    "    except Exception as e:\n",
    "        print(e)\n",
    "    \n",
    "    # print(sr1, sr2)\n",
    "    # Increase volume of audio_2 by 50%\n",
    "    audio_1 = audio_1 + (audio_1.dBFS * 0.2)  # Increase by 50% relative to current volume\n",
    "    \n",
    "    # Decrease volume of audio_1 by 60%\n",
    "    audio_2 = audio_2 - (audio_2.dBFS * 0.35)  # Decrease by 60% relative to current volume\n",
    "\n",
    "    # Make sure both audio files are the same length (pad with silence if needed)\n",
    "    if len(audio_1) > len(audio_2):\n",
    "        audio_2 = audio_2 + AudioSegment.silent(duration=len(audio_1) - len(audio_2))\n",
    "    elif len(audio_1) < len(audio_2):\n",
    "        audio_1 = audio_1 + AudioSegment.silent(duration=len(audio_2) - len(audio_1))\n",
    "    \n",
    "    # print('finished padding')\n",
    "    # Overlay the two audio tracks (this will play them simultaneously)\n",
    "    mixed_audio = audio_1.overlay(audio_2)\n",
    "\n",
    "    # print('trying to save')\n",
    "    # Export the mixed audio to a new .wav file\n",
    "    mixed_audio.export(output_file, format=\"wav\")\n",
    "    print(f'saved combined music at {output_file}')\n",
    "    \n",
    "    # Play the generated audio file\n",
    "    return output_file"
   ]
  },
  {
   "cell_type": "markdown",
   "id": "a944a1d3",
   "metadata": {},
   "source": [
    "# Controller to generate monophonic music"
   ]
  },
  {
   "cell_type": "code",
   "execution_count": 6,
   "id": "e2e3ce64",
   "metadata": {},
   "outputs": [],
   "source": [
    "instruments = {\n",
    "    0: \"Acoustic_Grand_Piano\",\n",
    "    24: \"Acoustic_Guitar\",\n",
    "    50: \"SynthStrings_1\",\n",
    "    73: \"Flute\"\n",
    "}\n",
    "def Generate_monophonic_music(wav_file):\n",
    "    # Perform pitch detection with confidence filtering\n",
    "    time, filtered_frequency = detect_frequency_with_filter(wav_file, threshold=0.72)\n",
    "    detected_frequency = {\"time\": time, \"filtered_frequency\": filtered_frequency}\n",
    "    \n",
    "    # Smoothen the detected frequencies\n",
    "    smoothened_detected_frequency = smoothen_detected_frequencies(detected_frequency)\n",
    "    \n",
    "    response_data = {}\n",
    "    \n",
    "    for instrument_code, instrument_name in instruments.items():\n",
    "        # Generate midi file\n",
    "        midi_file = construct_midi_file_for_predicted_frequencies(smoothened_detected_frequency, wav_file, instrument_code, instrument_name)\n",
    "\n",
    "        # Convert midi file to waveform format\n",
    "        instrument_waveform = construct_wav_file_from_midi(midi_file, instrument_name, output_dir=\"./converted_to_wav_files\")\n",
    "\n",
    "        # Mix user hum and instrument music\n",
    "        combined_music = mix_and_play_audio(wav_file, instrument_waveform, instrument_name)\n",
    "        if len(combined_music) == 0 :\n",
    "            combined_music = instrument_waveform\n",
    "        \n",
    "        response_data[instrument_name] = {\n",
    "            'instrument': instrument_waveform,\n",
    "            'combined': combined_music\n",
    "        }\n",
    "    \n",
    "    return response_data, smoothened_detected_frequency"
   ]
  },
  {
   "cell_type": "markdown",
   "id": "417651c2",
   "metadata": {},
   "source": [
    "#### test / verify (unit test: generate monophonic music)"
   ]
  },
  {
   "cell_type": "code",
   "execution_count": 7,
   "id": "d7cb2993",
   "metadata": {},
   "outputs": [
    {
     "name": "stdout",
     "output_type": "stream",
     "text": [
      "extracted sample rate, audio. proceeding to detect frequency details...\n",
      "56/56 [==============================] - 29s 522ms/step\n",
      "Converting d:\\acadamics\\codes1010\\Major_MUSIC\\codes\\fullstack_me\\backend\\generated_midi_files\\Acoustic_Grand_Piano\\generated_music_example.mid to ./converted_to_wav_files/Acoustic_Grand_Piano/generated_music_example.wav using d:\\acadamics\\codes1010\\Major_MUSIC\\codes\\fullstack_me\\backend\\FluidR3_GM.sf2\n",
      "saved combined music at ./generated_mixed_music/Acoustic_Grand_Piano/example.wav\n",
      "Converting d:\\acadamics\\codes1010\\Major_MUSIC\\codes\\fullstack_me\\backend\\generated_midi_files\\Acoustic_Guitar\\generated_music_example.mid to ./converted_to_wav_files/Acoustic_Guitar/generated_music_example.wav using d:\\acadamics\\codes1010\\Major_MUSIC\\codes\\fullstack_me\\backend\\FluidR3_GM.sf2\n",
      "saved combined music at ./generated_mixed_music/Acoustic_Guitar/example.wav\n",
      "Converting d:\\acadamics\\codes1010\\Major_MUSIC\\codes\\fullstack_me\\backend\\generated_midi_files\\SynthStrings_1\\generated_music_example.mid to ./converted_to_wav_files/SynthStrings_1/generated_music_example.wav using d:\\acadamics\\codes1010\\Major_MUSIC\\codes\\fullstack_me\\backend\\FluidR3_GM.sf2\n",
      "saved combined music at ./generated_mixed_music/SynthStrings_1/example.wav\n",
      "Converting d:\\acadamics\\codes1010\\Major_MUSIC\\codes\\fullstack_me\\backend\\generated_midi_files\\Flute\\generated_music_example.mid to ./converted_to_wav_files/Flute/generated_music_example.wav using d:\\acadamics\\codes1010\\Major_MUSIC\\codes\\fullstack_me\\backend\\FluidR3_GM.sf2\n",
      "saved combined music at ./generated_mixed_music/Flute/example.wav\n"
     ]
    },
    {
     "data": {
      "text/plain": [
       "{'time': array([0.000e+00, 1.000e-02, 2.000e-02, ..., 1.762e+01, 1.763e+01,\n",
       "        1.764e+01]),\n",
       " 'filtered_frequency': array([         nan,          nan,          nan, ..., 196.29338919,\n",
       "        196.29338919,          nan])}"
      ]
     },
     "execution_count": 7,
     "metadata": {},
     "output_type": "execute_result"
    }
   ],
   "source": [
    "wav_file = './inputs/example.wav'\n",
    "_, smoothened_detected_frequency = Generate_monophonic_music(wav_file)\n",
    "smoothened_detected_frequency"
   ]
  },
  {
   "cell_type": "markdown",
   "id": "e7e815bb",
   "metadata": {},
   "source": [
    "# Controller to generate polyphonic music (using CVAE)"
   ]
  },
  {
   "cell_type": "code",
   "execution_count": 8,
   "id": "ef951484",
   "metadata": {},
   "outputs": [
    {
     "name": "stdout",
     "output_type": "stream",
     "text": [
      "Model loaded successfully for inference!\n"
     ]
    }
   ],
   "source": [
    "from WrapperForCVAE import Wrapper\n",
    "from MatrixToMidi import generate_midi_from_matrix\n",
    "\n",
    "wrapper = Wrapper()\n",
    "prime_piano = r\"C:\\Users\\chint\\Major_MUSIC\\temporary_server\\generated_polyphonic_music\\midi\\prime_piano\"\n",
    "prime_guitar = r\"C:\\Users\\chint\\Major_MUSIC\\temporary_server\\generated_polyphonic_music\\midi\\prime_guitar\"\n",
    "\n",
    "def Generate_polyphonic_music(smoothened_detected_frequency, file_name, num_of_required_samples=2):\n",
    "   # origihal is in shape [300, 128] || converted from {freq, time}\n",
    "   original_piano = wrapper.convert_smoothened_freq_to_matrix(smoothened_detected_frequency, 1) # piano \n",
    "   result_primary_piano= wrapper.interpolate(original_piano, num_of_required_samples)\n",
    "   mixed_samples_piano = wrapper.overlay_original_with_new_gen_samples(original_piano, result_primary_piano[\"generated_samples\"])\n",
    "   # wrapper.plot_samples(mixed_samples_piano[:1])\n",
    "   \n",
    "   # origihal is in shape [300, 128] || converted from {freq, time}\n",
    "   original_guitar = wrapper.convert_smoothened_freq_to_matrix(smoothened_detected_frequency, 2) # guitar \n",
    "   result_primary_guitar= wrapper.interpolate(original_guitar, num_of_required_samples)\n",
    "   mixed_samples_guitar =wrapper.overlay_original_with_new_gen_samples(original_guitar, result_primary_guitar[\"generated_samples\"])\n",
    "   # wrapper.plot_samples(mixed_samples_guitar[-1:])\n",
    "   \n",
    "   mixed_samples = np.concatenate((mixed_samples_piano, mixed_samples_guitar))\n",
    "   \n",
    "   wrapper.plot_samples(mixed_samples)\n",
    "   mixed_samples_wav_path = []\n",
    "   for i, music in enumerate(mixed_samples[:num_of_required_samples]):\n",
    "      midi_save_path = prime_piano + \"/\" + file_name + f\"__{i}__\" + \".mid\"\n",
    "      generate_midi_from_matrix(music, midi_save_path)\n",
    "      wav_save_path = construct_wav_file_from_midi(midi_save_path, \"prime_piano\", \"./generated_polyphonic_music/wav\")\n",
    "      mixed_samples_wav_path.append(wav_save_path)\n",
    "   \n",
    "   for i, music in enumerate(mixed_samples[num_of_required_samples:]):\n",
    "      midi_save_path = prime_guitar + \"/\" + file_name + f\"__{i}__\" + \".mid\"\n",
    "      generate_midi_from_matrix(music, midi_save_path)\n",
    "      wav_save_path = construct_wav_file_from_midi(midi_save_path, \"prime_guitar\", \"./generated_polyphonic_music/wav\")\n",
    "      mixed_samples_wav_path.append(wav_save_path)\n",
    "   \n",
    "   return mixed_samples_wav_path"
   ]
  },
  {
   "cell_type": "markdown",
   "id": "6900e55f",
   "metadata": {},
   "source": [
    "#### test/ verify generate polyphonic music controller"
   ]
  },
  {
   "cell_type": "code",
   "execution_count": 9,
   "id": "fcb469a3",
   "metadata": {},
   "outputs": [
    {
     "name": "stdout",
     "output_type": "stream",
     "text": [
      "\n",
      "\n",
      "Generating samples for condition (1, 1, 1, 1) (piano-guitar-bass)\n",
      "Replicating conditions on cpu...\n",
      "Generating random latent vectors...\n",
      "Processing original sample...\n",
      "Encoding original sample...\n",
      "Interpolating original latent with random latents using SLERP...\n",
      "Decoding interpolated latents...\n",
      "\n",
      "\n",
      "Generating samples for condition (1, 1, 1, 1) (piano-guitar-bass)\n",
      "Replicating conditions on cpu...\n",
      "Generating random latent vectors...\n",
      "Processing original sample...\n",
      "Encoding original sample...\n",
      "Interpolating original latent with random latents using SLERP...\n",
      "Decoding interpolated latents...\n"
     ]
    },
    {
     "data": {
      "image/png": "[encoded data removed]",
      "text/plain": [
       "<Figure size 400x300 with 1 Axes>"
      ]
     },
     "metadata": {},
     "output_type": "display_data"
    },
    {
     "data": {
      "image/png": "[encoded data removed]",
      "text/plain": [
       "<Figure size 400x300 with 1 Axes>"
      ]
     },
     "metadata": {},
     "output_type": "display_data"
    },
    {
     "data": {
      "image/png": "[encoded data removed]",
      "text/plain": [
       "<Figure size 400x300 with 1 Axes>"
      ]
     },
     "metadata": {},
     "output_type": "display_data"
    },
    {
     "data": {
      "image/png": "[encoded data removed]",
      "text/plain": [
       "<Figure size 400x300 with 1 Axes>"
      ]
     },
     "metadata": {},
     "output_type": "display_data"
    },
    {
     "name": "stdout",
     "output_type": "stream",
     "text": [
      "MIDI file saved at C:\\Users\\chint\\Major_MUSIC\\temporary_server\\generated_polyphonic_music\\midi\\prime_piano/example__0__.mid\n",
      "Converting C:\\Users\\chint\\Major_MUSIC\\temporary_server\\generated_polyphonic_music\\midi\\prime_piano\\example__0__.mid to ./generated_polyphonic_music/wav/prime_piano/example__0__.wav using d:\\acadamics\\codes1010\\Major_MUSIC\\codes\\fullstack_me\\backend\\FluidR3_GM.sf2\n",
      "MIDI file saved at C:\\Users\\chint\\Major_MUSIC\\temporary_server\\generated_polyphonic_music\\midi\\prime_piano/example__1__.mid\n",
      "Converting C:\\Users\\chint\\Major_MUSIC\\temporary_server\\generated_polyphonic_music\\midi\\prime_piano\\example__1__.mid to ./generated_polyphonic_music/wav/prime_piano/example__1__.wav using d:\\acadamics\\codes1010\\Major_MUSIC\\codes\\fullstack_me\\backend\\FluidR3_GM.sf2\n",
      "MIDI file saved at C:\\Users\\chint\\Major_MUSIC\\temporary_server\\generated_polyphonic_music\\midi\\prime_guitar/example__0__.mid\n",
      "Converting C:\\Users\\chint\\Major_MUSIC\\temporary_server\\generated_polyphonic_music\\midi\\prime_guitar\\example__0__.mid to ./generated_polyphonic_music/wav/prime_guitar/example__0__.wav using d:\\acadamics\\codes1010\\Major_MUSIC\\codes\\fullstack_me\\backend\\FluidR3_GM.sf2\n",
      "MIDI file saved at C:\\Users\\chint\\Major_MUSIC\\temporary_server\\generated_polyphonic_music\\midi\\prime_guitar/example__1__.mid\n",
      "Converting C:\\Users\\chint\\Major_MUSIC\\temporary_server\\generated_polyphonic_music\\midi\\prime_guitar\\example__1__.mid to ./generated_polyphonic_music/wav/prime_guitar/example__1__.wav using d:\\acadamics\\codes1010\\Major_MUSIC\\codes\\fullstack_me\\backend\\FluidR3_GM.sf2\n",
      "['./generated_polyphonic_music/wav/prime_piano/example__0__.wav', './generated_polyphonic_music/wav/prime_piano/example__1__.wav', './generated_polyphonic_music/wav/prime_guitar/example__0__.wav', './generated_polyphonic_music/wav/prime_guitar/example__1__.wav']\n"
     ]
    }
   ],
   "source": [
    "# run monophonic test for this to work\n",
    "file_name = os.path.basename(wav_file).replace(\".wav\", \"\")\n",
    "mixed_samples_wav_path = Generate_polyphonic_music(smoothened_detected_frequency, file_name)\n",
    "print(mixed_samples_wav_path)"
   ]
  },
  {
   "cell_type": "markdown",
   "id": "716dab8e",
   "metadata": {},
   "source": [
    "# Server Code"
   ]
  },
  {
   "cell_type": "code",
   "execution_count": 10,
   "id": "53114139",
   "metadata": {
    "collapsed": true
   },
   "outputs": [
    {
     "name": "stdout",
     "output_type": "stream",
     "text": [
      " * Serving Flask app \"__main__\" (lazy loading)\n",
      " * Environment: production\n",
      "\u001b[31m   WARNING: This is a development server. Do not use it in a production deployment.\u001b[0m\n",
      "\u001b[2m   Use a production WSGI server instead.\u001b[0m\n",
      " * Debug mode: on\n"
     ]
    },
    {
     "name": "stderr",
     "output_type": "stream",
     "text": [
      " * Running on http://127.0.0.1:5000/ (Press CTRL+C to quit)\n"
     ]
    },
    {
     "name": "stdout",
     "output_type": "stream",
     "text": [
      "File saved at ./inputs\\1739451580_audio.wav\n",
      "File converted to: ./inputs\\1739451580_converted.wav with sample rate 44100 Hz\n",
      "extracted sample rate, audio. proceeding to detect frequency details...\n",
      "24/24 [==============================] - 10s 397ms/step\n",
      "Converting d:\\acadamics\\codes1010\\Major_MUSIC\\codes\\fullstack_me\\backend\\generated_midi_files\\Acoustic_Grand_Piano\\generated_music_1739451580_converted.mid to ./converted_to_wav_files/Acoustic_Grand_Piano/generated_music_1739451580_converted.wav using d:\\acadamics\\codes1010\\Major_MUSIC\\codes\\fullstack_me\\backend\\FluidR3_GM.sf2\n",
      "saved combined music at ./generated_mixed_music/Acoustic_Grand_Piano/1739451580_converted.wav\n",
      "Converting d:\\acadamics\\codes1010\\Major_MUSIC\\codes\\fullstack_me\\backend\\generated_midi_files\\Acoustic_Guitar\\generated_music_1739451580_converted.mid to ./converted_to_wav_files/Acoustic_Guitar/generated_music_1739451580_converted.wav using d:\\acadamics\\codes1010\\Major_MUSIC\\codes\\fullstack_me\\backend\\FluidR3_GM.sf2\n",
      "saved combined music at ./generated_mixed_music/Acoustic_Guitar/1739451580_converted.wav\n",
      "Converting d:\\acadamics\\codes1010\\Major_MUSIC\\codes\\fullstack_me\\backend\\generated_midi_files\\SynthStrings_1\\generated_music_1739451580_converted.mid to ./converted_to_wav_files/SynthStrings_1/generated_music_1739451580_converted.wav using d:\\acadamics\\codes1010\\Major_MUSIC\\codes\\fullstack_me\\backend\\FluidR3_GM.sf2\n",
      "saved combined music at ./generated_mixed_music/SynthStrings_1/1739451580_converted.wav\n",
      "Converting d:\\acadamics\\codes1010\\Major_MUSIC\\codes\\fullstack_me\\backend\\generated_midi_files\\Flute\\generated_music_1739451580_converted.mid to ./converted_to_wav_files/Flute/generated_music_1739451580_converted.wav using d:\\acadamics\\codes1010\\Major_MUSIC\\codes\\fullstack_me\\backend\\FluidR3_GM.sf2\n",
      "saved combined music at ./generated_mixed_music/Flute/1739451580_converted.wav\n",
      "\n",
      "\n",
      "Generating samples for condition (1, 1, 1, 1) (piano-guitar-bass)\n",
      "Replicating conditions on cpu...\n",
      "Generating random latent vectors...\n",
      "Processing original sample...\n",
      "Encoding original sample...\n",
      "Interpolating original latent with random latents using SLERP...\n",
      "Decoding interpolated latents...\n",
      "\n",
      "\n",
      "Generating samples for condition (1, 1, 1, 1) (piano-guitar-bass)\n",
      "Replicating conditions on cpu...\n",
      "Generating random latent vectors...\n",
      "Processing original sample...\n",
      "Encoding original sample...\n",
      "Interpolating original latent with random latents using SLERP...\n",
      "Decoding interpolated latents...\n",
      "MIDI file saved at C:\\Users\\chint\\Major_MUSIC\\temporary_server\\generated_polyphonic_music\\midi\\prime_piano/1739451580_converted__0__.mid\n",
      "Converting C:\\Users\\chint\\Major_MUSIC\\temporary_server\\generated_polyphonic_music\\midi\\prime_piano\\1739451580_converted__0__.mid to ./generated_polyphonic_music/wav/prime_piano/1739451580_converted__0__.wav using d:\\acadamics\\codes1010\\Major_MUSIC\\codes\\fullstack_me\\backend\\FluidR3_GM.sf2\n",
      "MIDI file saved at C:\\Users\\chint\\Major_MUSIC\\temporary_server\\generated_polyphonic_music\\midi\\prime_piano/1739451580_converted__1__.mid\n",
      "Converting C:\\Users\\chint\\Major_MUSIC\\temporary_server\\generated_polyphonic_music\\midi\\prime_piano\\1739451580_converted__1__.mid to ./generated_polyphonic_music/wav/prime_piano/1739451580_converted__1__.wav using d:\\acadamics\\codes1010\\Major_MUSIC\\codes\\fullstack_me\\backend\\FluidR3_GM.sf2\n",
      "MIDI file saved at C:\\Users\\chint\\Major_MUSIC\\temporary_server\\generated_polyphonic_music\\midi\\prime_guitar/1739451580_converted__0__.mid\n",
      "Converting C:\\Users\\chint\\Major_MUSIC\\temporary_server\\generated_polyphonic_music\\midi\\prime_guitar\\1739451580_converted__0__.mid to ./generated_polyphonic_music/wav/prime_guitar/1739451580_converted__0__.wav using d:\\acadamics\\codes1010\\Major_MUSIC\\codes\\fullstack_me\\backend\\FluidR3_GM.sf2\n",
      "MIDI file saved at C:\\Users\\chint\\Major_MUSIC\\temporary_server\\generated_polyphonic_music\\midi\\prime_guitar/1739451580_converted__1__.mid\n",
      "Converting C:\\Users\\chint\\Major_MUSIC\\temporary_server\\generated_polyphonic_music\\midi\\prime_guitar\\1739451580_converted__1__.mid to ./generated_polyphonic_music/wav/prime_guitar/1739451580_converted__1__.wav using d:\\acadamics\\codes1010\\Major_MUSIC\\codes\\fullstack_me\\backend\\FluidR3_GM.sf2\n"
     ]
    },
    {
     "name": "stderr",
     "output_type": "stream",
     "text": [
      "127.0.0.1 - - [13/Feb/2025 18:29:59] \"POST /generate-music HTTP/1.1\" 200 -\n",
      "127.0.0.1 - - [13/Feb/2025 18:29:59] \"GET /get-file?file_location=./converted_to_wav_files/Acoustic_Grand_Piano/generated_music_1739451580_converted.wav HTTP/1.1\" 200 -\n",
      "127.0.0.1 - - [13/Feb/2025 18:29:59] \"GET /get-file?file_location=./generated_polyphonic_music/wav/prime_guitar/1739451580_converted__1__.wav HTTP/1.1\" 200 -\n",
      "127.0.0.1 - - [13/Feb/2025 18:29:59] \"GET /get-file?file_location=./generated_polyphonic_music/wav/prime_piano/1739451580_converted__1__.wav HTTP/1.1\" 200 -\n",
      "127.0.0.1 - - [13/Feb/2025 18:29:59] \"GET /get-file?file_location=./generated_polyphonic_music/wav/prime_guitar/1739451580_converted__0__.wav HTTP/1.1\" 200 -\n",
      "127.0.0.1 - - [13/Feb/2025 18:29:59] \"GET /get-file?file_location=./generated_polyphonic_music/wav/prime_piano/1739451580_converted__0__.wav HTTP/1.1\" 200 -\n",
      "127.0.0.1 - - [13/Feb/2025 18:30:00] \"GET /get-file?file_location=./generated_mixed_music/Acoustic_Grand_Piano/1739451580_converted.wav HTTP/1.1\" 200 -\n",
      "127.0.0.1 - - [13/Feb/2025 18:30:11] \"GET /get-file?file_location=./converted_to_wav_files/Acoustic_Guitar/generated_music_1739451580_converted.wav HTTP/1.1\" 200 -\n",
      "127.0.0.1 - - [13/Feb/2025 18:30:11] \"GET /get-file?file_location=./generated_mixed_music/Acoustic_Guitar/1739451580_converted.wav HTTP/1.1\" 200 -\n"
     ]
    }
   ],
   "source": [
    "from flask import Flask, request, send_file, jsonify\n",
    "from flask_cors import CORS\n",
    "import os\n",
    "import time\n",
    "from pydub import AudioSegment\n",
    "from pydub.exceptions import CouldntDecodeError\n",
    "\n",
    "app = Flask(__name__)\n",
    "CORS(app)  # Enable CORS for all routes\n",
    "\n",
    "# Ensure the input directory exists\n",
    "os.makedirs(\"./inputs\", exist_ok=True)\n",
    "\n",
    "def convert_to_wav(input_path, output_path, target_sample_rate=44100):\n",
    "    try:\n",
    "        # Load the audio file\n",
    "        audio = AudioSegment.from_file(input_path)\n",
    "\n",
    "        # Convert sample rate to 44100 Hz\n",
    "        if audio.frame_rate != target_sample_rate:\n",
    "            audio = audio.set_frame_rate(target_sample_rate)\n",
    "\n",
    "        # Export the resampled audio as WAV\n",
    "        audio.export(output_path, format=\"wav\")\n",
    "        print(f\"File converted to: {output_path} with sample rate {target_sample_rate} Hz\")\n",
    "        return True\n",
    "    except CouldntDecodeError:\n",
    "        print(f\"Error: Could not decode the audio file.\")\n",
    "        return False\n",
    "    except Exception as e:\n",
    "        print(f\"Error during conversion: {e}\")\n",
    "        return False\n",
    "\n",
    "@app.route('/generate-music', methods=['POST'])\n",
    "def generate_monophonic_music():\n",
    "    # Check if a file is included in the request\n",
    "    if 'audio' not in request.files:\n",
    "        return jsonify({\"error\": \"No audio file provided\"}), 400\n",
    "    \n",
    "    file = request.files['audio']\n",
    "\n",
    "    # Check if the file is valid\n",
    "    if file.filename == '':\n",
    "        return jsonify({\"error\": \"Empty filename\"}), 400\n",
    "\n",
    "    # Check if the file is a WAV file based on MIME type\n",
    "    if file.content_type != 'audio/wav':\n",
    "        return jsonify({\"error\": \"Invalid file type. Please upload a WAV file.\"}), 400\n",
    "    \n",
    "    # Save the uploaded file as a .wav file\n",
    "    timestamp = int(time.time())  # Timestamp in seconds\n",
    "\n",
    "    # Create a new filename by appending timestamp\n",
    "    filename_with_timestamp = f\"{timestamp}_{file.filename}\"\n",
    "\n",
    "    # Save the uploaded file with the new filename\n",
    "    save_path = os.path.join(\"./inputs\", filename_with_timestamp)\n",
    "    file.save(save_path)\n",
    "    print(f'File saved at {save_path}')\n",
    "    \n",
    "    # Convert the file to a proper WAV format with 44100 Hz sample rate\n",
    "    output_path = os.path.join(\"./inputs\", f\"{timestamp}_converted.wav\")\n",
    "    if not convert_to_wav(save_path, output_path):\n",
    "        return jsonify({\"error\": \"Failed to convert the audio file to WAV format\"}), 400\n",
    "    \n",
    "    file_name = os.path.basename(output_path).replace(\".wav\", \"\")\n",
    "\n",
    "    # Return the files as response\n",
    "    try:\n",
    "        response_data, smoothened_detected_frequency = Generate_monophonic_music(output_path)\n",
    "        polyphonic_music_data = Generate_polyphonic_music(smoothened_detected_frequency, file_name)\n",
    "        response_data['polyphonic_music'] = polyphonic_music_data # array of file names\n",
    "        return response_data\n",
    "    except Exception as e:\n",
    "        print(\"error processing current request\")\n",
    "        return jsonify({\"error\": str(e)}), 500\n",
    "\n",
    "@app.route('/get-file', methods=['GET'])\n",
    "def get_file():\n",
    "    # Get the file location from the query parameter\n",
    "    file_location = request.args.get('file_location')\n",
    "    \n",
    "    if not file_location:\n",
    "        return jsonify({\"error\": \"File location is required\"}), 400\n",
    "    \n",
    "    # Check if the file exists\n",
    "    if not os.path.exists(file_location):\n",
    "        return jsonify({\"error\": \"File not found\"}), 404\n",
    "    \n",
    "    # Send the file back to the client\n",
    "    try:\n",
    "        return send_file(file_location, mimetype='audio/wav', as_attachment=True)\n",
    "    except Exception as e:\n",
    "        return jsonify({\"error\": str(e)}), 500\n",
    "\n",
    "if __name__ == '__main__':\n",
    "    app.run(debug=True, use_reloader=False)"
   ]
  },
  {
   "cell_type": "code",
   "execution_count": null,
   "id": "604d0674",
   "metadata": {},
   "outputs": [],
   "source": []
  },
  {
   "cell_type": "code",
   "execution_count": null,
   "id": "102a6f98",
   "metadata": {},
   "outputs": [],
   "source": []
  }
 ],
 "metadata": {
  "kernelspec": {
   "display_name": "base",
   "language": "python",
   "name": "python3"
  },
  "language_info": {
   "codemirror_mode": {
    "name": "ipython",
    "version": 3
   },
   "file_extension": ".py",
   "mimetype": "text/x-python",
   "name": "python",
   "nbconvert_exporter": "python",
   "pygments_lexer": "ipython3",
   "version": "3.9.13"
  }
 },
 "nbformat": 4,
 "nbformat_minor": 5
}
